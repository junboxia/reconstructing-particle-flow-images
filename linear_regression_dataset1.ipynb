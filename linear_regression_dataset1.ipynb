{
 "cells": [
  {
   "cell_type": "code",
   "execution_count": 1,
   "metadata": {},
   "outputs": [],
   "source": [
    "import skimage.io as io\n",
    "import numpy as np\n",
    "import os\n",
    "from sklearn.linear_model import LinearRegression\n",
    "from sklearn.model_selection import train_test_split\n",
    "import matplotlib.pyplot as plt\n"
   ]
  },
  {
   "cell_type": "code",
   "execution_count": 2,
   "metadata": {},
   "outputs": [],
   "source": [
    "# set path\n",
    "base_path = os.path.join('..', '..', 'data', 'Gauss_1.0_0.3')\n",
    "\n",
    "# initialize lists\n",
    "tracker_list = []\n",
    "emcal_list = []\n",
    "hcal_list = []\n",
    "truth_list = []"
   ]
  },
  {
   "cell_type": "code",
   "execution_count": 3,
   "metadata": {},
   "outputs": [],
   "source": [
    "# read images and append to lists\n",
    "for i in range(1000):  \n",
    "    tracker_image_path = os.path.join(base_path, f'tracker_{i}.tiff')\n",
    "    tracker = io.imread(tracker_image_path)\n",
    "    tracker_list.append(tracker)\n",
    "\n",
    "    emcal_image_path = os.path.join(base_path, f'emcal_{i}.tiff')\n",
    "    emcal = io.imread(emcal_image_path)\n",
    "    emcal_list.append(emcal)\n",
    "\n",
    "    hcal_image_path = os.path.join(base_path, f'hcal_{i}.tiff')\n",
    "    hcal = io.imread(hcal_image_path)\n",
    "    hcal_list.append(hcal)\n",
    "    \n",
    "    truth_image_path = os.path.join(base_path, f'truth_{i}.tiff')\n",
    "    truth = io.imread(truth_image_path)\n",
    "    truth_list.append(truth)"
   ]
  },
  {
   "cell_type": "code",
   "execution_count": 4,
   "metadata": {},
   "outputs": [],
   "source": [
    "# convert lists to numpy arrays\n",
    "X_tracker = np.array(tracker_list).flatten()\n",
    "X_emcal = np.array(emcal_list).flatten()\n",
    "X_hcal = np.array(hcal_list).flatten()\n",
    "Y_truth = np.array(truth_list).flatten()"
   ]
  },
  {
   "cell_type": "code",
   "execution_count": 5,
   "metadata": {},
   "outputs": [],
   "source": [
    "# concatenate feature arrays\n",
    "X=np.array(list(zip(X_tracker,X_emcal,X_hcal )))\n",
    "Y = Y_truth"
   ]
  },
  {
   "cell_type": "code",
   "execution_count": 6,
   "metadata": {},
   "outputs": [
    {
     "name": "stdout",
     "output_type": "stream",
     "text": [
      "0.9879353647368017\n"
     ]
    }
   ],
   "source": [
    "# split the data into training and testing sets\n",
    "X_train, X_test, Y_train, Y_test = train_test_split(X, Y, test_size=0.3, random_state=42)\n",
    "\n",
    "# initialize and train the linear regression model\n",
    "model = LinearRegression()\n",
    "model.fit(X_train, Y_train)\n",
    "\n",
    "# predict on the test set\n",
    "Y_pred = model.predict(X_test)\n",
    "\n",
    "print(model.score(X_test,Y_test ))\n"
   ]
  },
  {
   "cell_type": "code",
   "execution_count": 7,
   "metadata": {},
   "outputs": [
    {
     "name": "stdout",
     "output_type": "stream",
     "text": [
      "0.11087609074581622\n"
     ]
    }
   ],
   "source": [
    "sum = 0\n",
    "for image_index in range(100):\n",
    "    image_size = 56 * 56\n",
    "    start_index = image_index * image_size\n",
    "    end_index = start_index + image_size\n",
    "\n",
    "    true_data = Y_test[start_index:end_index]\n",
    "    predicted_data = Y_pred[start_index:end_index]\n",
    "\n",
    "    true_picture = np.array(true_data).reshape((56, 56))\n",
    "    predicted_picture = np.array(predicted_data).reshape((56, 56))\n",
    "    # Replace zero values in true_data and predicted_data with a small number to avoid division by zero\n",
    "    true_data = np.where(true_data == 0, 1e-20, true_data)\n",
    "\n",
    "    # Calculate the error metrics\n",
    "    error_2d = predicted_data - true_data\n",
    "    error_1d = predicted_data - true_data\n",
    "    rms_2d = np.sqrt(np.mean(error_2d**2))\n",
    "    sum +=rms_2d\n",
    "print(sum/100)"
   ]
  }
 ],
 "metadata": {
  "kernelspec": {
   "display_name": ".venv",
   "language": "python",
   "name": "python3"
  },
  "language_info": {
   "codemirror_mode": {
    "name": "ipython",
    "version": 3
   },
   "file_extension": ".py",
   "mimetype": "text/x-python",
   "name": "python",
   "nbconvert_exporter": "python",
   "pygments_lexer": "ipython3",
   "version": "3.10.12"
  }
 },
 "nbformat": 4,
 "nbformat_minor": 2
}

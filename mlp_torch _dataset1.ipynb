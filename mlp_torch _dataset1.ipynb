{
 "cells": [
  {
   "cell_type": "code",
   "execution_count": 1,
   "metadata": {},
   "outputs": [],
   "source": [
    "import torch\n",
    "import torch.nn as nn\n",
    "import torch.optim as optim\n",
    "import skimage.io as io\n",
    "import numpy as np\n",
    "import os\n",
    "import matplotlib.pyplot as plt\n",
    "from sklearn.model_selection import train_test_split\n",
    "import subprocess\n",
    "from torch.utils.data import DataLoader, TensorDataset"
   ]
  },
  {
   "cell_type": "code",
   "execution_count": 2,
   "metadata": {},
   "outputs": [
    {
     "name": "stdout",
     "output_type": "stream",
     "text": [
      "Using device: cuda\n"
     ]
    }
   ],
   "source": [
    "# Check if GPU is available\n",
    "device = torch.device('cuda' if torch.cuda.is_available() else 'cpu')\n",
    "print(f'Using device: {device}')"
   ]
  },
  {
   "cell_type": "code",
   "execution_count": 3,
   "metadata": {},
   "outputs": [],
   "source": [
    "\n",
    "# get data from file\n",
    "base_path = os.path.join('..', '..', 'data', 'Gauss_1.0_0.3')\n",
    "\n",
    "\n",
    "# initialize lists\n",
    "tracker_list = []\n",
    "emcal_list = []\n",
    "hcal_list = []\n",
    "truth_list = []\n",
    "\n",
    "for i in range(1000):  \n",
    "    tracker_image_path = os.path.join(base_path, f'tracker_{i}.tiff')\n",
    "    tracker = io.imread(tracker_image_path)\n",
    "    tracker_list.append(tracker)\n",
    "\n",
    "    emcal_image_path = os.path.join(base_path, f'emcal_{i}.tiff')\n",
    "    emcal = io.imread(emcal_image_path)\n",
    "    emcal_list.append(emcal)\n",
    "\n",
    "    hcal_image_path = os.path.join(base_path, f'hcal_{i}.tiff')\n",
    "    hcal = io.imread(hcal_image_path)\n",
    "    hcal_list.append(hcal)\n",
    "    \n",
    "    truth_image_path = os.path.join(base_path, f'truth_{i}.tiff')\n",
    "    truth = io.imread(truth_image_path)\n",
    "    truth_list.append(truth)\n",
    "\n",
    "# convert lists to numpy arrays\n",
    "X_tracker = np.array(tracker_list).flatten()\n",
    "X_emcal = np.array(emcal_list).flatten()\n",
    "X_hcal = np.array(hcal_list).flatten()\n",
    "Y_truth = np.array(truth_list).flatten()\n",
    "\n",
    "X = np.array(list(zip(X_tracker, X_emcal, X_hcal,)))#进行zip操作：多个数组的元素按位置对齐组合在一起。然后进行list操作才能显示。不然他的值只是一个对应的地址。\n",
    "X_train, X_test, y_train, y_test = train_test_split(X, Y_truth, test_size=0.3, random_state=42)"
   ]
  },
  {
   "cell_type": "code",
   "execution_count": 4,
   "metadata": {},
   "outputs": [],
   "source": [
    "# Define the neural network model in PyTorch\n",
    "\n",
    "class MLP(nn.Module):\n",
    "    def __init__(self):\n",
    "        super(MLP, self).__init__()\n",
    "        self.hidden1 = nn.Linear(3, 256)\n",
    "        self.hidden2 = nn.Linear(256, 128)\n",
    "        self.hidden3 = nn.Linear(128, 64)\n",
    "        self.hidden4 = nn.Linear(64, 32)\n",
    "        self.output = nn.Linear(32, 1)  \n",
    "    def forward(self, x):\n",
    "        x = torch.relu(self.hidden1(x))\n",
    "        x = torch.relu(self.hidden2(x))\n",
    "        x = torch.relu(self.hidden3(x))\n",
    "        x = torch.relu(self.hidden4(x))\n",
    "        x = self.output(x)\n",
    "        return x\n",
    "\n",
    "model = MLP().to(device)# 使用gpu\n",
    "criterion = nn.MSELoss()#定义损失函数\n",
    "optimizer = optim.Adam(model.parameters(), lr=0.001)#使用Adam优化算法，将学习率设为0.001\n",
    "\n",
    "# Convert numpy arrays to PyTorch tensors and move to the appropriate device\n",
    "X_train_tensor = torch.tensor(X_train, dtype=torch.float32).to(device)\n",
    "y_train_tensor = torch.tensor(y_train, dtype=torch.float32).view(-1, 1).to(device)\n",
    "X_test_tensor = torch.tensor(X_test, dtype=torch.float32).to(device)\n",
    "y_test_tensor = torch.tensor(y_test, dtype=torch.float32).view(-1, 1).to(device)"
   ]
  },
  {
   "cell_type": "code",
   "execution_count": 5,
   "metadata": {},
   "outputs": [
    {
     "name": "stdout",
     "output_type": "stream",
     "text": [
      "Epoch [1/20], Batch [0/4], Loss: 1.2755\n",
      "Epoch [1/20], Loss: 1.1879\n",
      "Epoch [2/20], Batch [0/4], Loss: 1.0300\n",
      "Epoch [2/20], Loss: 0.9063\n",
      "Epoch [3/20], Batch [0/4], Loss: 0.6950\n",
      "Epoch [3/20], Loss: 0.5683\n",
      "Epoch [4/20], Batch [0/4], Loss: 0.3949\n",
      "Epoch [4/20], Loss: 0.3501\n",
      "Epoch [5/20], Batch [0/4], Loss: 0.3002\n",
      "Epoch [5/20], Loss: 0.2470\n",
      "Epoch [6/20], Batch [0/4], Loss: 0.1559\n",
      "Epoch [6/20], Loss: 0.1287\n",
      "Epoch [7/20], Batch [0/4], Loss: 0.1065\n",
      "Epoch [7/20], Loss: 0.1002\n",
      "Epoch [8/20], Batch [0/4], Loss: 0.0801\n",
      "Epoch [8/20], Loss: 0.0669\n",
      "Epoch [9/20], Batch [0/4], Loss: 0.0527\n",
      "Epoch [9/20], Loss: 0.0467\n",
      "Epoch [10/20], Batch [0/4], Loss: 0.0325\n",
      "Epoch [10/20], Loss: 0.0273\n",
      "Epoch [11/20], Batch [0/4], Loss: 0.0242\n",
      "Epoch [11/20], Loss: 0.0238\n",
      "Epoch [12/20], Batch [0/4], Loss: 0.0217\n",
      "Epoch [12/20], Loss: 0.0211\n",
      "Epoch [13/20], Batch [0/4], Loss: 0.0203\n",
      "Epoch [13/20], Loss: 0.0184\n",
      "Epoch [14/20], Batch [0/4], Loss: 0.0148\n",
      "Epoch [14/20], Loss: 0.0138\n",
      "Epoch [15/20], Batch [0/4], Loss: 0.0125\n",
      "Epoch [15/20], Loss: 0.0118\n",
      "Epoch [16/20], Batch [0/4], Loss: 0.0111\n",
      "Epoch [16/20], Loss: 0.0112\n",
      "Epoch [17/20], Batch [0/4], Loss: 0.0111\n",
      "Epoch [17/20], Loss: 0.0110\n",
      "Epoch [18/20], Batch [0/4], Loss: 0.0108\n",
      "Epoch [18/20], Loss: 0.0107\n",
      "Epoch [19/20], Batch [0/4], Loss: 0.0104\n",
      "Epoch [19/20], Loss: 0.0102\n",
      "Epoch [20/20], Batch [0/4], Loss: 0.0100\n",
      "Epoch [20/20], Loss: 0.0097\n"
     ]
    }
   ],
   "source": [
    "train_dataset = TensorDataset(X_train_tensor, y_train_tensor)\n",
    "test_dataset = TensorDataset(X_test_tensor, y_test_tensor)\n",
    "batch_size = 560000\n",
    "train_loader = DataLoader(train_dataset, batch_size=batch_size, shuffle=True)\n",
    "test_loader = DataLoader(test_dataset, batch_size=batch_size, shuffle=False)\n",
    "\n",
    "n_epochs = 20\n",
    "for epoch in range(n_epochs):\n",
    "    model.train()\n",
    "    epoch_loss = 0\n",
    "    for batch_idx, (data, target) in enumerate(train_loader):\n",
    "        data, target = data.to(device), target.to(device)\n",
    "        optimizer.zero_grad()\n",
    "        outputs = model(data)\n",
    "        loss = criterion(outputs, target)\n",
    "        loss.backward()\n",
    "        optimizer.step()\n",
    "        epoch_loss += loss.item()\n",
    "        \n",
    "        if batch_idx % 10 == 0: \n",
    "            print(f'Epoch [{epoch + 1}/{n_epochs}], Batch [{batch_idx}/{len(train_loader)}], Loss: {loss.item():.4f}')\n",
    "    \n",
    "    # Summarize epoch\n",
    "    print(f'Epoch [{epoch + 1}/{n_epochs}], Loss: {epoch_loss/len(train_loader):.4f}')"
   ]
  },
  {
   "cell_type": "code",
   "execution_count": 6,
   "metadata": {},
   "outputs": [
    {
     "name": "stdout",
     "output_type": "stream",
     "text": [
      "Model Score: 0.995286316\n"
     ]
    }
   ],
   "source": [
    "# Testing the model\n",
    "# model.eval()\n",
    "# with torch.no_grad():\n",
    "#     y_pred_tensor = model(X_test_tensor)\n",
    "#     y_pred = y_pred_tensor.cpu().numpy()\n",
    "#     y_test_numpy = y_test_tensor.cpu().numpy()\n",
    "\n",
    "# print(f'Model Score: {np.corrcoef(y_test_numpy.flatten(), y_pred.flatten())[0, 1]:.9f}')\n",
    "\n",
    "# # Check GPU power usage\n",
    "# if device.type == 'cuda':\n",
    "#     gpu_power_usage = subprocess.check_output(\n",
    "#         ['nvidia-smi', '--query-gpu=power.draw', '--format=csv,noheader,nounits']\n",
    "#     ).decode('utf-8').strip()\n",
    "#     print(f'GPU Power Usage: {gpu_power_usage} W')\n",
    "test_dataset = TensorDataset(X_test_tensor, y_test_tensor)\n",
    "test_loader = DataLoader(test_dataset, batch_size=560000, shuffle=False)\n",
    "\n",
    "model.eval()\n",
    "y_pred_list = []\n",
    "y_test_list = []\n",
    "\n",
    "with torch.no_grad():\n",
    "    for data, target in test_loader:\n",
    "        data = data.to(device)\n",
    "        outputs = model(data)\n",
    "        y_pred_list.append(outputs.cpu().numpy())\n",
    "        y_test_list.append(target.cpu().numpy())\n",
    "\n",
    "y_pred = np.concatenate(y_pred_list)\n",
    "y_test_numpy = np.concatenate(y_test_list)\n",
    "\n",
    "print(f'Model Score: {np.corrcoef(y_test_numpy.flatten(), y_pred.flatten())[0, 1]:.9f}')\n",
    "\n",
    "# Check GPU power usage\n",
    "if device.type == 'cuda':\n",
    "    import subprocess\n",
    "    gpu_power_usage = subprocess.check_output(\n",
    "        ['nvidia-smi', '--query-gpu=power.draw', '--format=csv,noheader,nounits']\n",
    "    ).decode('utf-8').strip()"
   ]
  },
  {
   "cell_type": "code",
   "execution_count": 10,
   "metadata": {},
   "outputs": [
    {
     "data": {
      "image/png": "[encoded data removed]",
      "text/plain": [
       "<Figure size 1200x600 with 3 Axes>"
      ]
     },
     "metadata": {},
     "output_type": "display_data"
    }
   ],
   "source": [
    "def image_plot(image_index):\n",
    "    image_size = 56 * 56\n",
    "    start_index = image_index * image_size\n",
    "    end_index = start_index + image_size\n",
    "    true_data = np.array(y_test[start_index:end_index]).flatten()\n",
    "    predicted_data = np.array(y_pred[start_index:end_index]).flatten()\n",
    "\n",
    "    # 计算误差指标（不去掉 true_data=0 的情况，用于 2D 图）\n",
    "    error_2d = predicted_data - true_data\n",
    "    # 计算 RMS 值（2D）\n",
    "    rms_2d = np.sqrt(np.mean(error_2d**2))\n",
    "\n",
    "    # 绘制2D直方图（保留 true_data=0 的情况）\n",
    "    plt.figure(figsize=(12, 6))\n",
    "\n",
    "    plt.subplot(1, 2, 1)\n",
    "    plt.hist2d(true_data, predicted_data, bins=(70, 70), cmap='Blues', vmin=0, vmax=10)\n",
    "    plt.colorbar()\n",
    "    plt.title(f'MLP test image {image_index} in dataset1')\n",
    "    plt.xlabel('Truth Pixel Values')\n",
    "    plt.ylabel('Predicted')\n",
    "    plt.text(0.95, 0.95, f'RMS: {rms_2d:.6f}', horizontalalignment='right', verticalalignment='top', transform=plt.gca().transAxes, fontsize=12, bbox=dict(facecolor='white', alpha=0.5))\n",
    "\n",
    "\n",
    "    # 计算 RMS 值（1D）\n",
    "    rms_1d = rms_2d\n",
    "\n",
    "    # 绘制1D直方图（去掉 true_data=0 的情况）\n",
    "    plt.subplot(1, 2, 2)\n",
    "    plt.hist(error_2d, bins=100, color='blue', alpha=0.7)\n",
    "    plt.title(f'MLP test image {image_index} in dataset1')\n",
    "    plt.xlabel('Predicted - True')\n",
    "    plt.ylabel('Frequency')\n",
    "\n",
    "    # 在图表上添加RMS值\n",
    "    plt.text(0.95, 0.95, f'RMS: {rms_1d:.6f}', horizontalalignment='right', verticalalignment='top', transform=plt.gca().transAxes, fontsize=12, bbox=dict(facecolor='white', alpha=0.5))\n",
    "    plt.show()\n",
    "image_plot(0)"
   ]
  },
  {
   "cell_type": "code",
   "execution_count": 8,
   "metadata": {},
   "outputs": [
    {
     "name": "stdout",
     "output_type": "stream",
     "text": [
      "average RMS in the first 500 test dataset: 0.09749380392233908\n"
     ]
    }
   ],
   "source": [
    "sum =0\n",
    "for i in range(100):\n",
    "    image_index=i\n",
    "    image_size = 56 * 56\n",
    "    start_index = image_index * image_size\n",
    "    end_index = start_index + image_size\n",
    "    true_data = np.array(y_test[start_index:end_index]).flatten()\n",
    "    predicted_data = np.array(y_pred[start_index:end_index]).flatten()\n",
    "    error = predicted_data - true_data\n",
    "    sum+=np.sqrt(np.mean(error**2))\n",
    "sum/=100\n",
    "print('average RMS in the first 500 test dataset:' ,sum)"
   ]
  }
 ],
 "metadata": {
  "kernelspec": {
   "display_name": ".venv",
   "language": "python",
   "name": "python3"
  },
  "language_info": {
   "codemirror_mode": {
    "name": "ipython",
    "version": 3
   },
   "file_extension": ".py",
   "mimetype": "text/x-python",
   "name": "python",
   "nbconvert_exporter": "python",
   "pygments_lexer": "ipython3",
   "version": "3.10.12"
  }
 },
 "nbformat": 4,
 "nbformat_minor": 2
}
